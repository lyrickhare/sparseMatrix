{
 "cells": [
  {
   "cell_type": "code",
   "execution_count": 6,
   "metadata": {},
   "outputs": [
    {
     "name": "stdout",
     "output_type": "stream",
     "text": [
      "Insert Merchant Response: {\"result\":\"successfully inserted\"}\n",
      "Get Merchants Response: {\"0\":[\"0\"]}\n",
      "Insert Merchant Response: {\"result\":\"successfully inserted\"}\n",
      "Get Merchants Response: {\"1\":[\"1\",\"2\"]}\n",
      "Insert Merchant Response: {\"result\":\"successfully inserted\"}\n",
      "Get Merchants Response: {\"error\":\"pinCode DNE\"}\n",
      "Insert Merchant Response: {\"result\":\"successfully inserted\"}\n",
      "Get Merchants Response: {\"0\":[\"1\",\"2\",\"0\"]}\n",
      "Insert Merchant Response: {\"result\":\"successfully inserted\"}\n",
      "Get Merchants Response: {\"1\":[\"1\",\"2\",\"0\"]}\n",
      "Insert Merchant Response: {\"result\":\"successfully inserted\"}\n",
      "Get Merchants Response: {\"error\":\"pinCode DNE\"}\n",
      "Insert Merchant Response: {\"result\":\"successfully inserted\"}\n",
      "Get Merchants Response: {\"0\":[\"1\",\"2\",\"0\"]}\n",
      "Insert Merchant Response: {\"result\":\"successfully inserted\"}\n",
      "Get Merchants Response: {\"1\":[\"1\",\"2\",\"0\"]}\n",
      "Insert Merchant Response: {\"result\":\"successfully inserted\"}\n",
      "Get Merchants Response: {\"2\":[\"1\",\"2\",\"0\"]}\n"
     ]
    }
   ],
   "source": [
    "import requests\n",
    "import concurrent.futures\n",
    "\n",
    "def insert_merchant(pinCode,merchID):\n",
    "    url = 'http://0.0.0.0:5000/insertMerchant'\n",
    "    headers = {\n",
    "        'accept': 'application/json',\n",
    "        'Content-Type': 'application/x-www-form-urlencoded'\n",
    "    }\n",
    "    data = {\n",
    "        'pinCode': pinCode,\n",
    "        'merchID': merchID\n",
    "    }\n",
    "\n",
    "    response = requests.post(url, headers=headers, data=data)\n",
    "    print(\"Insert Merchant Response:\", response.text)\n",
    "\n",
    "def get_merchants(pinCode):\n",
    "    url = 'http://0.0.0.0:5000/getMerchants'\n",
    "    headers = {\n",
    "        'accept': 'application/json',\n",
    "        'Content-Type': 'application/x-www-form-urlencoded'\n",
    "    }\n",
    "    data = {\n",
    "        'pinCode': pinCode\n",
    "    }\n",
    "\n",
    "    response = requests.post(url, headers=headers, data=data)\n",
    "    print(\"Get Merchants Response:\", response.text)\n",
    "\n",
    "for i in range(0,3):\n",
    "    for j in range(0,3):\n",
    "        with concurrent.futures.ThreadPoolExecutor() as executor:\n",
    "            future1 = executor.submit(insert_merchant(i,j))\n",
    "            future2 = executor.submit(get_merchants(j))\n",
    "\n",
    "            # Wait for both requests to complete\n",
    "            concurrent.futures.wait([future1, future2])\n"
   ]
  },
  {
   "cell_type": "code",
   "execution_count": null,
   "metadata": {},
   "outputs": [],
   "source": []
  }
 ],
 "metadata": {
  "kernelspec": {
   "display_name": "base",
   "language": "python",
   "name": "python3"
  },
  "language_info": {
   "codemirror_mode": {
    "name": "ipython",
    "version": 3
   },
   "file_extension": ".py",
   "mimetype": "text/x-python",
   "name": "python",
   "nbconvert_exporter": "python",
   "pygments_lexer": "ipython3",
   "version": "3.11.5"
  }
 },
 "nbformat": 4,
 "nbformat_minor": 2
}
