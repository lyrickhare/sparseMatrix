{
 "cells": [
  {
   "cell_type": "code",
   "execution_count": 1,
   "metadata": {},
   "outputs": [],
   "source": [
    "import numpy as np\n",
    "import json\n",
    "import os\n",
    "import random\n",
    "import string"
   ]
  },
  {
   "cell_type": "code",
   "execution_count": 2,
   "metadata": {},
   "outputs": [],
   "source": [
    "class sparseMat():\n",
    "    def __init__(self,rows,cols):\n",
    "        self.rows = rows\n",
    "        self.cols = cols\n",
    "        self.merch_to_ID = {}\n",
    "        self.table = {}\n",
    "        self.merch_ID = -1\n",
    "        self.load_data()\n",
    "\n",
    "    def load_data(self):\n",
    "        '''In this function we would load our data from JSON file, and if the\n",
    "            file is not present we would create a new dict'''\n",
    "\n",
    "        if(os.path.exists(\"table.json\")):\n",
    "            self.table = json.load(open(\"table.json\"))\n",
    "        if(os.path.exists(\"merch_to_ID.json\")):\n",
    "            self.merch_to_ID = json.load(open(\"merch_to_ID.json\"))\n",
    "    \n",
    "    def insert_merchant(self, pincode, merchant_name):\n",
    "        '''In this function we would first find out the merchant ID corresponding to the merchant name\n",
    "            If the merchant name is not found, we would allot a new ID in the increasing order.\n",
    "            Then we would add the ID to the pincode.\n",
    "            If the pincode is not present we would add it to our table, and then add the merchant ID'''\n",
    "        if(merchant_name in self.merch_to_ID):\n",
    "            self.merch_ID = self.merch_to_ID[merchant_name]\n",
    "        else:\n",
    "            self.merch_ID = len(self.merch_to_ID) + 1\n",
    "            self.merch_to_ID[merchant_name] = len(self.merch_to_ID) + 1\n",
    "        if((pincode in self.table)):\n",
    "            self.table[pincode].append(self.merch_ID)\n",
    "        \n",
    "        else:\n",
    "            self.table[pincode] = [self.merch_ID]\n",
    "\n",
    "    def save_data(self):\n",
    "        '''In this function, we would update our JSON files'''\n",
    "        with open(\"merch_to_ID.json\",\"w\") as f:\n",
    "            json.dump(self.merch_to_ID,f)\n",
    "        \n",
    "        with open(\"table.json\",\"w\") as f:\n",
    "            json.dump(self.table,f)\n",
    "    \n",
    "    def get_merchants(self,pincode):\n",
    "        '''In this function, we would retrieve all the merchant names for the given pincode'''\n",
    "        merchants = [key for key, value in self.merch_to_ID.items() if value in self.table[pincode]]\n",
    "        return(merchants)\n",
    "    \n",
    "    def delete_json(self):\n",
    "        '''This function is used to delete the created json files'''\n",
    "        if(os.path.exists(\"table.json\")):\n",
    "            os.remove(\"table.json\")\n",
    "        if(os.path.exists(\"merch_to_ID.json\")):\n",
    "            os.remove(\"merch_to_ID.json\")\n",
    "ob = sparseMat(30000,10000000)   "
   ]
  },
  {
   "cell_type": "code",
   "execution_count": 3,
   "metadata": {},
   "outputs": [],
   "source": [
    "ob.delete_json()\n",
    "ob.insert_merchant(1,\"Hello\")\n",
    "ob.insert_merchant(2,\"Hello_2\")\n",
    "ob.insert_merchant(1,\"World\")\n",
    "ob.insert_merchant(2,\"Bye_2\")\n",
    "ob.get_merchants(1)\n",
    "ob.save_data()"
   ]
  },
  {
   "cell_type": "code",
   "execution_count": null,
   "metadata": {},
   "outputs": [],
   "source": []
  }
 ],
 "metadata": {
  "kernelspec": {
   "display_name": "base",
   "language": "python",
   "name": "python3"
  },
  "language_info": {
   "codemirror_mode": {
    "name": "ipython",
    "version": 3
   },
   "file_extension": ".py",
   "mimetype": "text/x-python",
   "name": "python",
   "nbconvert_exporter": "python",
   "pygments_lexer": "ipython3",
   "version": "3.9.12"
  }
 },
 "nbformat": 4,
 "nbformat_minor": 2
}
