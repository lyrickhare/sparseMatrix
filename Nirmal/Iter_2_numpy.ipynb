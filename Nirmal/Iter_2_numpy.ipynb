{
 "cells": [
  {
   "cell_type": "code",
   "execution_count": 1,
   "metadata": {},
   "outputs": [],
   "source": [
    "import numpy as np\n",
    "import json\n",
    "import os\n",
    "import random\n",
    "import string"
   ]
  },
  {
   "cell_type": "code",
   "execution_count": 2,
   "metadata": {},
   "outputs": [],
   "source": [
    "class sparseMat():\n",
    "    def __init__(self,rows,cols):\n",
    "        self.rows = rows\n",
    "        self.cols = cols\n",
    "        self.merch_to_ID = {}\n",
    "        self.table = {}\n",
    "        self.merch_ID = -1\n",
    "        self.temp = {}\n",
    "        self.load_data()\n",
    "\n",
    "    def load_data(self):\n",
    "\n",
    "        if(os.path.exists(\"table.json\")):\n",
    "            self.table = json.load(open(\"table.json\"))\n",
    "        if(os.path.exists(\"merch_to_ID.json\")):\n",
    "            self.merch_to_ID = json.load(open(\"merch_to_ID.json\"))\n",
    "    \n",
    "    def insert_merchant(self, pincode, merchant_name):\n",
    "\n",
    "        if(merchant_name in self.merch_to_ID):\n",
    "            self.merch_ID = self.merch_to_ID[merchant_name]\n",
    "        else:\n",
    "            self.merch_ID = len(self.merch_to_ID) + 1\n",
    "            self.merch_to_ID[merchant_name] = len(self.merch_to_ID) + 1\n",
    "        \n",
    "        self.temp[self.merch_to_ID[merchant_name]] = merchant_name\n",
    "\n",
    "        if((pincode in self.table)):\n",
    "            self.table[pincode].append(self.merch_ID)\n",
    "        \n",
    "        else:\n",
    "            self.table[pincode] = [self.merch_ID]\n",
    "\n",
    "    def save_data(self):\n",
    "        with open(\"merch_to_ID.json\",\"w\") as f:\n",
    "            json.dump(self.merch_to_ID,f)\n",
    "        \n",
    "        with open(\"table.json\",\"w\") as f:\n",
    "            json.dump(self.table,f)\n",
    "\n",
    "\n",
    "\n",
    "    def get_merchants(self,pincode):\n",
    "        merchants = np.frompyfunc(self.temp.get, 1, 1)(self.table[pincode])\n",
    "        return(merchants)\n",
    "    \n",
    "    def delete_json(self):\n",
    "        if(os.path.exists(\"table.json\")):\n",
    "            os.remove(\"table.json\")\n",
    "        if(os.path.exists(\"merch_to_ID.json\")):\n",
    "            os.remove(\"merch_to_ID.json\")\n",
    "ob = sparseMat(30000,10000000)   "
   ]
  },
  {
   "cell_type": "code",
   "execution_count": 3,
   "metadata": {},
   "outputs": [],
   "source": [
    "# ob.delete_json()\n",
    "# ob.load_data()\n",
    "# ob.insert_merchant(1,\"Hello\")\n",
    "# ob.insert_merchant(2,\"Hello_2\")\n",
    "# ob.insert_merchant(1,\"Bye\")\n",
    "# ob.insert_merchant(2,\"Bye_2\")\n",
    "# ob.save_data()\n",
    "# print(ob.get_merchants(1))"
   ]
  },
  {
   "cell_type": "code",
   "execution_count": 4,
   "metadata": {},
   "outputs": [],
   "source": [
    "ob.delete_json()\n",
    "ob.load_data()\n",
    "for i in range(300000):\n",
    "    ob.insert_merchant(np.random.randint(12),''.join(random.choice(string.ascii_letters) for i in range(5)))\n",
    "ob.save_data()"
   ]
  },
  {
   "cell_type": "code",
   "execution_count": 5,
   "metadata": {},
   "outputs": [],
   "source": [
    "n = 9"
   ]
  },
  {
   "cell_type": "code",
   "execution_count": 6,
   "metadata": {},
   "outputs": [
    {
     "name": "stdout",
     "output_type": "stream",
     "text": [
      "CPU times: user 19.5 ms, sys: 0 ns, total: 19.5 ms\n",
      "Wall time: 19.4 ms\n"
     ]
    },
    {
     "data": {
      "text/plain": [
       "array(['NAZZn', 'VDZGL', 'uTdmS', ..., 'LTjCP', 'cxEke', 'bqKYd'],\n",
       "      dtype=object)"
      ]
     },
     "execution_count": 6,
     "metadata": {},
     "output_type": "execute_result"
    }
   ],
   "source": [
    "%%time\n",
    "ob.get_merchants(n)"
   ]
  }
 ],
 "metadata": {
  "kernelspec": {
   "display_name": "base",
   "language": "python",
   "name": "python3"
  },
  "language_info": {
   "codemirror_mode": {
    "name": "ipython",
    "version": 3
   },
   "file_extension": ".py",
   "mimetype": "text/x-python",
   "name": "python",
   "nbconvert_exporter": "python",
   "pygments_lexer": "ipython3",
   "version": "3.9.12"
  }
 },
 "nbformat": 4,
 "nbformat_minor": 2
}
