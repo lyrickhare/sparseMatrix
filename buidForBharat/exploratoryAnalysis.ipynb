{
 "cells": [
  {
   "cell_type": "code",
   "execution_count": 1,
   "metadata": {},
   "outputs": [],
   "source": [
    "import pandas as pd\n",
    "import numpy as np"
   ]
  },
  {
   "cell_type": "code",
   "execution_count": 2,
   "metadata": {},
   "outputs": [],
   "source": [
    "df = pd.read_excel(\"Book1.xlsx\")"
   ]
  },
  {
   "cell_type": "code",
   "execution_count": 3,
   "metadata": {},
   "outputs": [],
   "source": [
    "first2Ranges = [0]\n",
    "temp = df.first2[0]\n",
    "checkChange = 0\n",
    "for i in range(1,19251):\n",
    "    checkChange = df.first2[i]-temp\n",
    "    temp = df.first2[i]\n",
    "    if(checkChange!=0):\n",
    "        first2Ranges.append(i)\n",
    "first2Ranges.append(19252)"
   ]
  },
  {
   "cell_type": "code",
   "execution_count": 4,
   "metadata": {},
   "outputs": [],
   "source": [
    "thirdRanges = []\n",
    "for i in range(0,68):\n",
    "    thirdRangesTemp = [first2Ranges[i]]\n",
    "    temp = df.third[first2Ranges[i]]\n",
    "    checkChange = 0\n",
    "    for j in range(first2Ranges[i],first2Ranges[i+1]-1):\n",
    "        checkChange = df.third[j]-temp\n",
    "        temp = df.third[j]\n",
    "        if(checkChange!=0):\n",
    "            thirdRangesTemp.append(j)\n",
    "    thirdRangesTemp.append(first2Ranges[i+1])\n",
    "    thirdRanges.append(thirdRangesTemp)\n"
   ]
  },
  {
   "cell_type": "code",
   "execution_count": 5,
   "metadata": {},
   "outputs": [],
   "source": [
    "x= np.array((df.first2[first2Ranges[0:68]]))"
   ]
  },
  {
   "cell_type": "code",
   "execution_count": 6,
   "metadata": {},
   "outputs": [
    {
     "name": "stdout",
     "output_type": "stream",
     "text": [
      "29\n",
      "35\n",
      "54\n",
      "55\n",
      "65\n",
      "66\n"
     ]
    }
   ],
   "source": [
    "\n",
    "for b in range(11,85):\n",
    "    if b not in x:\n",
    "        print (b)\n",
    "    "
   ]
  },
  {
   "cell_type": "code",
   "execution_count": 7,
   "metadata": {},
   "outputs": [
    {
     "data": {
      "text/plain": [
       "11"
      ]
     },
     "execution_count": 7,
     "metadata": {},
     "output_type": "execute_result"
    }
   ],
   "source": [
    "df.first2[95]"
   ]
  },
  {
   "cell_type": "code",
   "execution_count": 8,
   "metadata": {},
   "outputs": [
    {
     "data": {
      "text/plain": [
       "70"
      ]
     },
     "execution_count": 8,
     "metadata": {},
     "output_type": "execute_result"
    }
   ],
   "source": [
    "len(first2Ranges)"
   ]
  },
  {
   "cell_type": "code",
   "execution_count": 19,
   "metadata": {},
   "outputs": [
    {
     "data": {
      "text/plain": [
       "11"
      ]
     },
     "execution_count": 19,
     "metadata": {},
     "output_type": "execute_result"
    }
   ],
   "source": [
    "max(len(thirdRanges[i]) for i in range(0,68))"
   ]
  },
  {
   "cell_type": "code",
   "execution_count": 17,
   "metadata": {},
   "outputs": [
    {
     "data": {
      "text/plain": [
       "8"
      ]
     },
     "execution_count": 17,
     "metadata": {},
     "output_type": "execute_result"
    }
   ],
   "source": [
    "max(df.third[i] for i in j for j in thirdRanges)"
   ]
  },
  {
   "cell_type": "code",
   "execution_count": 14,
   "metadata": {},
   "outputs": [
    {
     "data": {
      "text/plain": [
       "[[0, 96],\n",
       " [96, 116, 150, 172, 206, 247, 258, 285],\n",
       " [285, 307, 335, 354, 377, 387, 411],\n",
       " [411, 459, 517, 559, 642, 784, 793, 814, 832, 862],\n",
       " [862, 901, 932],\n",
       " [932, 962],\n",
       " [962, 1008, 1043, 1084, 1135, 1208, 1336, 1397],\n",
       " [1397, 1415, 1438, 1470, 1490, 1510],\n",
       " [1510, 1532, 1543, 1567, 1594, 1610],\n",
       " [1610, 1652, 1686, 1722, 1730, 1744, 1773, 1797, 1823, 1906],\n",
       " [1906, 1945, 1966, 2022],\n",
       " [2022, 2091, 2132, 2144, 2210, 2245, 2288, 2310, 2328, 2381],\n",
       " [2381, 2419, 2454, 2480, 2506],\n",
       " [2506, 2530, 2548, 2593, 2641, 2649, 2757, 2794, 2829, 2882],\n",
       " [2882, 2919, 2940],\n",
       " [2940, 2969, 3044, 3113],\n",
       " [3113, 3188, 3240, 3296, 3346, 3362, 3402, 3432],\n",
       " [3432, 3462, 3472, 3505, 3539, 3557],\n",
       " [3557, 3601, 3632, 3703, 3720, 3780, 3824, 3848],\n",
       " [3848, 3881, 3920, 3978, 4004],\n",
       " [4004, 4047, 4090, 4113, 4123, 4149, 4173, 4191, 4205],\n",
       " [4205, 4239, 4296, 4337, 4361, 4406],\n",
       " [4406, 4451, 4495, 4513, 4540, 4552],\n",
       " [4552, 4612, 4652, 4702, 4744, 4791, 4817],\n",
       " [4817, 4873],\n",
       " [4873, 4906, 4989, 5035, 5098, 5129, 5172, 5239, 5278],\n",
       " [5278, 5301, 5355, 5380, 5402, 5489, 5504, 5583],\n",
       " [5583, 5694, 5734, 5775, 5863],\n",
       " [5863, 5901, 5956, 6013, 6181, 6223, 6390, 6568],\n",
       " [6568, 6598, 6658, 6695, 6730, 6803],\n",
       " [6803, 6949],\n",
       " [6949, 6980, 7056, 7111, 7133, 7220, 7254],\n",
       " [7254, 7273, 7296, 7312, 7326, 7342, 7355, 7377, 7404, 7434],\n",
       " [7434, 7453, 7474, 7507, 7509, 7541, 7575, 7593],\n",
       " [7593, 7633, 7653, 7670, 7709, 7723, 7739, 7755, 7775],\n",
       " [7775, 7816, 7858, 7871, 7894, 7924, 7948, 7996, 8011, 8023],\n",
       " [8023, 8036, 8072, 8091, 8135, 8177, 8234, 8264, 8297],\n",
       " [8297, 8406, 8433, 8509, 8562, 8613, 8696, 8777, 8832, 8892, 8968],\n",
       " [8968, 9062, 9146, 9245, 9330],\n",
       " [9330, 9341, 9446, 9556, 9657, 9737],\n",
       " [9737, 9775, 9825, 9890, 10013, 10125, 10184],\n",
       " [10184, 10293, 10308, 10345, 10383],\n",
       " [10383, 10414, 10537, 10596, 10645, 10735, 10759, 10808, 10972],\n",
       " [10972, 10997, 11115, 11139, 11218, 11249, 11337, 11378, 11415],\n",
       " [11415, 11430, 11529],\n",
       " [11529, 11648, 11658, 11670, 11714, 11753, 11804, 11870, 11905, 11926, 11997],\n",
       " [11997, 12016, 12030, 12069, 12105, 12188],\n",
       " [12188, 12217, 12315, 12350, 12408, 12464, 12552, 12609, 12726, 12814, 12879],\n",
       " [12879, 12942, 12985, 13058, 13134, 13231, 13285, 13367, 13401],\n",
       " [13401, 13496, 13538, 13584],\n",
       " [13584, 13686, 13717, 13839, 13888, 13983, 14071],\n",
       " [14071, 14230, 14309, 14363, 14416, 14557, 14602, 14722],\n",
       " [14722, 14783, 14882, 15014],\n",
       " [15014, 15177],\n",
       " [15177, 15229, 15312, 15432],\n",
       " [15432, 15583, 15627, 15658],\n",
       " [15658, 15702, 15731, 15760, 15813, 15859, 15892, 15911],\n",
       " [15911, 15985, 16047, 16161, 16183],\n",
       " [16183, 16214, 16294, 16308, 16419, 16453, 16541, 16607, 16651, 16703],\n",
       " [16703, 16714, 16798, 16831, 16836, 16886, 16904, 16937, 16975, 17049, 17067],\n",
       " [17067, 17108],\n",
       " [17108, 17237, 17297, 17355, 17428, 17512, 17568, 17588, 17680],\n",
       " [17680, 17691, 17712, 17729, 17777, 17795, 17848, 17895, 17920, 17939, 18019],\n",
       " [18019, 18048, 18070, 18145, 18175, 18202, 18227],\n",
       " [18227, 18257, 18264, 18290, 18327, 18344, 18361],\n",
       " [18361, 18387, 18412, 18418, 18461, 18507, 18516, 18527, 18580, 18628],\n",
       " [18628, 18646, 18666, 18688, 18700, 18742],\n",
       " [18742, 18843, 18849, 18908, 18938, 18994, 19003, 19072, 19111]]"
      ]
     },
     "execution_count": 14,
     "metadata": {},
     "output_type": "execute_result"
    }
   ],
   "source": []
  },
  {
   "cell_type": "code",
   "execution_count": null,
   "metadata": {},
   "outputs": [],
   "source": []
  }
 ],
 "metadata": {
  "kernelspec": {
   "display_name": "base",
   "language": "python",
   "name": "python3"
  },
  "language_info": {
   "codemirror_mode": {
    "name": "ipython",
    "version": 3
   },
   "file_extension": ".py",
   "mimetype": "text/x-python",
   "name": "python",
   "nbconvert_exporter": "python",
   "pygments_lexer": "ipython3",
   "version": "3.11.5"
  }
 },
 "nbformat": 4,
 "nbformat_minor": 2
}
