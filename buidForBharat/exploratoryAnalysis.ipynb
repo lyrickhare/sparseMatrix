{
 "cells": [
  {
   "cell_type": "code",
   "execution_count": 1,
   "metadata": {},
   "outputs": [],
   "source": [
    "import pandas as pd\n",
    "import numpy as np"
   ]
  },
  {
   "cell_type": "code",
   "execution_count": 17,
   "metadata": {},
   "outputs": [],
   "source": [
    "df = pd.read_excel(\"Book1.xlsx\")"
   ]
  },
  {
   "cell_type": "code",
   "execution_count": 38,
   "metadata": {},
   "outputs": [],
   "source": [
    "first2Ranges = [0]\n",
    "temp = df.first2[0]\n",
    "checkChange = 0\n",
    "for i in range(1,19251):\n",
    "    checkChange = df.first2[i]-temp\n",
    "    temp = df.first2[i]\n",
    "    if(checkChange!=0):\n",
    "        first2Ranges.append(i)\n",
    "first2Ranges.append(19252)"
   ]
  },
  {
   "cell_type": "code",
   "execution_count": 53,
   "metadata": {},
   "outputs": [],
   "source": [
    "thirdRanges = []\n",
    "for i in range(0,68):\n",
    "    thirdRangesTemp = [first2Ranges[i]]\n",
    "    temp = df.third[first2Ranges[i]]\n",
    "    checkChange = 0\n",
    "    for j in range(first2Ranges[i],first2Ranges[i+1]-1):\n",
    "        checkChange = df.third[j]-temp\n",
    "        temp = df.third[j]\n",
    "        if(checkChange!=0):\n",
    "            thirdRangesTemp.append(j)\n",
    "    thirdRangesTemp.append(first2Ranges[i+1])\n",
    "    thirdRanges.append(thirdRangesTemp)\n"
   ]
  },
  {
   "cell_type": "code",
   "execution_count": 76,
   "metadata": {},
   "outputs": [],
   "source": [
    "x= np.array((df.first2[first2Ranges[0:68]]))"
   ]
  },
  {
   "cell_type": "code",
   "execution_count": 80,
   "metadata": {},
   "outputs": [
    {
     "name": "stdout",
     "output_type": "stream",
     "text": [
      "29\n",
      "35\n",
      "54\n",
      "55\n",
      "65\n",
      "66\n"
     ]
    }
   ],
   "source": [
    "\n",
    "for b in range(11,85):\n",
    "    if b not in x:\n",
    "        print (b)\n",
    "    "
   ]
  }
 ],
 "metadata": {
  "kernelspec": {
   "display_name": "base",
   "language": "python",
   "name": "python3"
  },
  "language_info": {
   "codemirror_mode": {
    "name": "ipython",
    "version": 3
   },
   "file_extension": ".py",
   "mimetype": "text/x-python",
   "name": "python",
   "nbconvert_exporter": "python",
   "pygments_lexer": "ipython3",
   "version": "3.11.5"
  }
 },
 "nbformat": 4,
 "nbformat_minor": 2
}
